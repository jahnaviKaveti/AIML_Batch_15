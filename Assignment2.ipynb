{
  "nbformat": 4,
  "nbformat_minor": 0,
  "metadata": {
    "colab": {
      "provenance": [],
      "authorship_tag": "ABX9TyN5mQet6TBuHZBvjCR1r66u",
      "include_colab_link": true
    },
    "kernelspec": {
      "name": "python3",
      "display_name": "Python 3"
    },
    "language_info": {
      "name": "python"
    }
  },
  "cells": [
    {
      "cell_type": "markdown",
      "metadata": {
        "id": "view-in-github",
        "colab_type": "text"
      },
      "source": [
        "<a href=\"https://colab.research.google.com/github/jahnaviKaveti/AIML_Batch_15/blob/main/Assignment2.ipynb\" target=\"_parent\"><img src=\"https://colab.research.google.com/assets/colab-badge.svg\" alt=\"Open In Colab\"/></a>"
      ]
    },
    {
      "cell_type": "code",
      "execution_count": null,
      "metadata": {
        "id": "EWs2uGrlhmm1"
      },
      "outputs": [],
      "source": []
    },
    {
      "cell_type": "markdown",
      "source": [
        "## implement Breadth First Search Algorithms using *Queue*"
      ],
      "metadata": {
        "id": "xChWmk4zh1jB"
      }
    },
    {
      "cell_type": "code",
      "source": [
        "import collections\n",
        "def bfs(graph,root):\n",
        "  visited,queue=set(), collections.deque([root])\n",
        "  visited.add(root)\n",
        "  while queue:\n",
        "    vertex=queue.popleft()\n",
        "    print(str(vertex) + \" \",end=\"\")\n",
        "    for neighbour in graph[vertex]:\n",
        "      if neighbour not in visited:\n",
        "        visited.add(neighbour)\n",
        "        queue.append(neighbour)\n",
        "if __name__ == '__main__':\n",
        "  graph={0: [1,2],1: [2], 2: [3], 3: [1,2]}\n",
        "  print(\"Follwing is Breadth First Traversal:\")\n",
        "  bfs(graph,0)"
      ],
      "metadata": {
        "colab": {
          "base_uri": "https://localhost:8080/"
        },
        "id": "qk_fFWD8mbce",
        "outputId": "e1f57b54-77e6-44d2-de66-4f20e9c57c9a"
      },
      "execution_count": null,
      "outputs": [
        {
          "output_type": "stream",
          "name": "stdout",
          "text": [
            "Follwing is Breadth First Traversal:\n",
            "0 1 2 3 "
          ]
        }
      ]
    },
    {
      "cell_type": "code",
      "source": [
        "class Graph:\n",
        "  def __init__(self,V):\n",
        "     self.V = V\n",
        "     self.adj  = [[] for i in range(V)]\n",
        "  def addEdge(self,v, w):\n",
        "     self.adj[v].append(w)\n",
        "  def DFS(self,s):\n",
        "     visited = [False for i in range(self.V)]\n",
        "     stack = []\n",
        "     stack.append(s)\n",
        "     while (len(stack)):\n",
        "        s = stack[-1]\n",
        "        stack.pop()\n",
        "        if (not visited[s]):\n",
        "           print(s,end=' ')\n",
        "           visited[s] = True\n",
        "        for node in self.adj[s]:\n",
        "           if (not visited[node]):\n",
        "              stack.append(node)\n",
        "g = Graph(5);\n",
        "g.addEdge(1, 0);\n",
        "g.addEdge(0, 2);\n",
        "g.addEdge(2, 1);\n",
        "g.addEdge(0, 3);\n",
        "g.addEdge(1, 4);\n",
        "print(\"Following is Depth First Traversal\")\n",
        "g.DFS(0)\n"
      ],
      "metadata": {
        "colab": {
          "base_uri": "https://localhost:8080/"
        },
        "id": "FhQbcH6MpiXP",
        "outputId": "2475efb4-8da6-4bd4-de26-9e0283be282c"
      },
      "execution_count": null,
      "outputs": [
        {
          "output_type": "stream",
          "name": "stdout",
          "text": [
            "Following is Depth First Traversal\n",
            "0 3 2 1 4 "
          ]
        }
      ]
    },
    {
      "cell_type": "markdown",
      "source": [
        "## Implement A * Algorithm"
      ],
      "metadata": {
        "id": "wB6OKnKd1KtG"
      }
    }
  ]
}